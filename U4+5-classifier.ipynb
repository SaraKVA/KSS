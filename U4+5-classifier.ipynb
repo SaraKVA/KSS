{
 "cells": [
  {
   "cell_type": "markdown",
   "metadata": {},
   "source": [
    "# Exercise 4"
   ]
  },
  {
   "cell_type": "code",
   "execution_count": 1,
   "metadata": {},
   "outputs": [],
   "source": [
    "%reload_ext autoreload\n",
    "import numpy as np\n",
    "import pandas as pd\n",
    "import os\n",
    "\n",
    "from tqdm import tqdm\n",
    "\n",
    "from sklearn.model_selection import LeaveOneOut, KFold, TimeSeriesSplit\n",
    "\n",
    "from sklearn.preprocessing import StandardScaler\n",
    "from sklearn.utils import shuffle\n",
    "from sklearn.metrics import confusion_matrix\n",
    "\n",
    "from sklearn.pipeline import Pipeline\n",
    "from sklearn.feature_selection import RFE\n",
    "\n",
    "from sklearn.neural_network import MLPClassifier\n",
    "from sklearn.neighbors import KNeighborsClassifier\n",
    "from sklearn.svm import SVC\n",
    "from sklearn.gaussian_process import GaussianProcessClassifier\n",
    "from sklearn.gaussian_process.kernels import RBF\n",
    "from sklearn.tree import DecisionTreeClassifier\n",
    "from sklearn.ensemble import RandomForestClassifier, AdaBoostClassifier\n",
    "from sklearn.naive_bayes import GaussianNB\n"
   ]
  },
  {
   "cell_type": "code",
   "execution_count": 2,
   "metadata": {},
   "outputs": [],
   "source": [
    "# load data from csv file\n",
    "Folder_window = os.path.join('data', 'windowFrames.csv')\n",
    "windowFrame = pd.read_csv(Folder_window)\n",
    "\n",
    "windowFrame = windowFrame.set_index(['time'])\n",
    "windowFrame.index = pd.to_datetime(windowFrame.index)\n",
    "\n",
    "# Remove testing frames\n",
    "windowFrame.drop(windowFrame[windowFrame['label']=='testing'].index, inplace=True)"
   ]
  },
  {
   "cell_type": "code",
   "execution_count": 3,
   "metadata": {},
   "outputs": [
    {
     "data": {
      "text/plain": [
       "Index(['alpha_min', 'alpha_max', 'alpha_median', 'alpha_std', 'alphaG_min',\n",
       "       'alphaG_max', 'alphaG_median', 'alphaG_std', 'beta_min', 'beta_max',\n",
       "       'beta_median', 'beta_std', 'betaG_min', 'betaG_max', 'betaG_median',\n",
       "       'betaG_std', 'count_min', 'count_max', 'count_median', 'count_std',\n",
       "       'gamma_min', 'gamma_max', 'gamma_median', 'gamma_std', 'gammaG_min',\n",
       "       'gammaG_max', 'gammaG_median', 'gammaG_std', 'lux_min', 'lux_max',\n",
       "       'lux_median', 'lux_std', 'label', 'subject'],\n",
       "      dtype='object')"
      ]
     },
     "execution_count": 3,
     "metadata": {},
     "output_type": "execute_result"
    }
   ],
   "source": [
    "windowFrame.columns"
   ]
  },
  {
   "cell_type": "markdown",
   "metadata": {},
   "source": [
    "**Extra:** Classifiers have array parameters and not dataframes!"
   ]
  },
  {
   "cell_type": "code",
   "execution_count": 4,
   "metadata": {},
   "outputs": [],
   "source": [
    "np_windowFrame = windowFrame.to_numpy()\n",
    "data = np_windowFrame[:,:-2] # all data without label and subject columns\n",
    "label = np_windowFrame[:,-2] # just the column label with the labels"
   ]
  },
  {
   "cell_type": "markdown",
   "metadata": {},
   "source": [
    "## a. Build test-train-split and classifiers"
   ]
  },
  {
   "cell_type": "code",
   "execution_count": 5,
   "metadata": {},
   "outputs": [],
   "source": [
    "clfs = [\n",
    "    (GaussianNB(), 'Gaussian Nayve Bayes'),\n",
    "    (KNeighborsClassifier(10), 'Nearest Neighbors'),\n",
    "    (DecisionTreeClassifier(max_depth=15), \"Decision Tree\"),\n",
    "    (RandomForestClassifier(max_depth=5, n_estimators=10, max_features=1), \"Random Forest\")\n",
    "]"
   ]
  },
  {
   "cell_type": "code",
   "execution_count": 6,
   "metadata": {},
   "outputs": [],
   "source": [
    "def split_clf(splitter, num_splits, df, lb): #df = dataframe, lb = label array\n",
    "    scores = np.zeros((len(clfs), num_splits))\n",
    "    total_cm = [[[0,0,0],[0,0,0],[0,0,0]]] * len(clfs) #cm = confusion matrix\n",
    "    for split_idx, (train_idx, test_idx) in tqdm(enumerate(splitter.split(df)),total=num_splits):\n",
    "            train_data, test_data = df[train_idx], df[test_idx]\n",
    "            train_label, test_label = lb[train_idx], lb[test_idx]\n",
    "            for clf_idx , (clf, name) in enumerate(clfs):\n",
    "                clf.fit(train_data, train_label)\n",
    "                cm = confusion_matrix(test_label, clf.predict(test_data), ['sitting', 'standing', 'walking'])\n",
    "                total_cm[clf_idx] = total_cm[clf_idx] + cm\n",
    "                scores[clf_idx, split_idx] = clf.score(test_data, test_label)\n",
    "    mean_accuracy = np.mean(scores, axis=1)\n",
    "    for (clf, name), mean_acc, cm in zip(clfs, mean_accuracy, total_cm):\n",
    "        print(name) # for each classifier\n",
    "        print('Mean accuracy:', mean_acc) # mean accuracy\n",
    "        print('Confusion Matrix\\n [Sitting, Standing, Walking]\\n ', cm, '\\n') #confusion_matrix"
   ]
  },
  {
   "cell_type": "markdown",
   "metadata": {},
   "source": [
    "## b. Leave One Out"
   ]
  },
  {
   "cell_type": "code",
   "execution_count": 7,
   "metadata": {},
   "outputs": [
    {
     "name": "stderr",
     "output_type": "stream",
     "text": [
      "100%|██████████| 1126/1126 [00:47<00:00, 23.80it/s]"
     ]
    },
    {
     "name": "stdout",
     "output_type": "stream",
     "text": [
      "Gaussian Nayve Bayes\n",
      "Mean accuracy: 0.9351687388987566\n",
      "Confusion Matrix\n",
      " [Sitting, Standing, Walking]\n",
      "  [[370   5  37]\n",
      " [  6 340   0]\n",
      " [ 25   0 343]] \n",
      "\n",
      "Nearest Neighbors\n",
      "Mean accuracy: 0.9538188277087034\n",
      "Confusion Matrix\n",
      " [Sitting, Standing, Walking]\n",
      "  [[371  12  29]\n",
      " [  0 346   0]\n",
      " [  3   8 357]] \n",
      "\n",
      "Decision Tree\n",
      "Mean accuracy: 0.9591474245115453\n",
      "Confusion Matrix\n",
      " [Sitting, Standing, Walking]\n",
      "  [[390   2  20]\n",
      " [  3 343   0]\n",
      " [ 21   0 347]] \n",
      "\n",
      "Random Forest\n",
      "Mean accuracy: 0.9591474245115453\n",
      "Confusion Matrix\n",
      " [Sitting, Standing, Walking]\n",
      "  [[380   7  25]\n",
      " [  1 344   1]\n",
      " [  9   3 356]] \n",
      "\n"
     ]
    },
    {
     "name": "stderr",
     "output_type": "stream",
     "text": [
      "\n"
     ]
    }
   ],
   "source": [
    "split_clf(LeaveOneOut(), len(label), data, label)"
   ]
  },
  {
   "cell_type": "markdown",
   "metadata": {},
   "source": [
    "## c. Other train_control\n",
    "- ###  K-Fold cross-validation"
   ]
  },
  {
   "cell_type": "markdown",
   "metadata": {},
   "source": [
    "Leave One Out is a K-Fold method with len(label) as n_splits, len(label)=1076"
   ]
  },
  {
   "cell_type": "code",
   "execution_count": 8,
   "metadata": {},
   "outputs": [
    {
     "name": "stderr",
     "output_type": "stream",
     "text": [
      "100%|██████████| 10/10 [00:00<00:00, 18.75it/s]"
     ]
    },
    {
     "name": "stdout",
     "output_type": "stream",
     "text": [
      "Gaussian Nayve Bayes\n",
      "Mean accuracy: 0.9130214917825539\n",
      "Confusion Matrix\n",
      " [Sitting, Standing, Walking]\n",
      "  [[360   5  47]\n",
      " [ 14 332   0]\n",
      " [ 32   0 336]] \n",
      "\n",
      "Nearest Neighbors\n",
      "Mean accuracy: 0.9228192161820481\n",
      "Confusion Matrix\n",
      " [Sitting, Standing, Walking]\n",
      "  [[350  26  36]\n",
      " [  1 345   0]\n",
      " [ 11  13 344]] \n",
      "\n",
      "Decision Tree\n",
      "Mean accuracy: 0.9209307838179519\n",
      "Confusion Matrix\n",
      " [Sitting, Standing, Walking]\n",
      "  [[367   2  43]\n",
      " [  5 341   0]\n",
      " [ 39   0 329]] \n",
      "\n",
      "Random Forest\n",
      "Mean accuracy: 0.9272360935524653\n",
      "Confusion Matrix\n",
      " [Sitting, Standing, Walking]\n",
      "  [[357  17  38]\n",
      " [  2 344   0]\n",
      " [ 22   3 343]] \n",
      "\n"
     ]
    },
    {
     "name": "stderr",
     "output_type": "stream",
     "text": [
      "\n"
     ]
    }
   ],
   "source": [
    "n_splits = 10\n",
    "split_clf(KFold(n_splits=n_splits), n_splits, data, label)"
   ]
  },
  {
   "cell_type": "markdown",
   "metadata": {},
   "source": [
    "- ### Time Series Split"
   ]
  },
  {
   "cell_type": "code",
   "execution_count": 9,
   "metadata": {},
   "outputs": [
    {
     "name": "stderr",
     "output_type": "stream",
     "text": [
      "100%|██████████| 10/10 [00:00<00:00, 25.76it/s]"
     ]
    },
    {
     "name": "stdout",
     "output_type": "stream",
     "text": [
      "Gaussian Nayve Bayes\n",
      "Mean accuracy: 0.8186274509803922\n",
      "Confusion Matrix\n",
      " [Sitting, Standing, Walking]\n",
      "  [[301   5   0]\n",
      " [ 70 276   0]\n",
      " [110   0 258]] \n",
      "\n",
      "Nearest Neighbors\n",
      "Mean accuracy: 0.7156862745098038\n",
      "Confusion Matrix\n",
      " [Sitting, Standing, Walking]\n",
      "  [[287  19   0]\n",
      " [118 228   0]\n",
      " [132  21 215]] \n",
      "\n",
      "Decision Tree\n",
      "Mean accuracy: 0.7833333333333332\n",
      "Confusion Matrix\n",
      " [Sitting, Standing, Walking]\n",
      "  [[281  25   0]\n",
      " [ 63 283   0]\n",
      " [133   0 235]] \n",
      "\n",
      "Random Forest\n",
      "Mean accuracy: 0.8617647058823529\n",
      "Confusion Matrix\n",
      " [Sitting, Standing, Walking]\n",
      "  [[302   4   0]\n",
      " [ 12 334   0]\n",
      " [125   0 243]] \n",
      "\n"
     ]
    },
    {
     "name": "stderr",
     "output_type": "stream",
     "text": [
      "\n"
     ]
    }
   ],
   "source": [
    "n_splits = 10\n",
    "split_clf(TimeSeriesSplit(n_splits=n_splits), n_splits, data, label)"
   ]
  },
  {
   "cell_type": "markdown",
   "metadata": {},
   "source": [
    "## d. Add more feature manually\n",
    "if (acc_x_with_g - acc_x > acc_y_with_g - acc_y) & (acc_x_with_g - acc_x > acc_z_with_g - acc_z) then new feature up_down_side = 0\n",
    "\n",
    "if (acc_x_with_g - acc_x < acc_y_with_g - acc_y) & (acc_x_with_g - acc_x < acc_z_with_g - acc_z) then new feature up_down_side = 1\n",
    "\n",
    "else up_down_side = 2"
   ]
  },
  {
   "cell_type": "code",
   "execution_count": 10,
   "metadata": {},
   "outputs": [
    {
     "data": {
      "text/html": [
       "<div>\n",
       "<style scoped>\n",
       "    .dataframe tbody tr th:only-of-type {\n",
       "        vertical-align: middle;\n",
       "    }\n",
       "\n",
       "    .dataframe tbody tr th {\n",
       "        vertical-align: top;\n",
       "    }\n",
       "\n",
       "    .dataframe thead th {\n",
       "        text-align: right;\n",
       "    }\n",
       "</style>\n",
       "<table border=\"1\" class=\"dataframe\">\n",
       "  <thead>\n",
       "    <tr style=\"text-align: right;\">\n",
       "      <th></th>\n",
       "      <th>alpha_min</th>\n",
       "      <th>alpha_max</th>\n",
       "      <th>alpha_median</th>\n",
       "      <th>alpha_std</th>\n",
       "      <th>alphaG_min</th>\n",
       "      <th>alphaG_max</th>\n",
       "      <th>alphaG_median</th>\n",
       "      <th>alphaG_std</th>\n",
       "      <th>beta_min</th>\n",
       "      <th>beta_max</th>\n",
       "      <th>...</th>\n",
       "      <th>gammaG_std</th>\n",
       "      <th>lux_min</th>\n",
       "      <th>lux_max</th>\n",
       "      <th>lux_median</th>\n",
       "      <th>lux_std</th>\n",
       "      <th>label</th>\n",
       "      <th>subject</th>\n",
       "      <th>g_alpha_median</th>\n",
       "      <th>g_beta_median</th>\n",
       "      <th>g_gamma_median</th>\n",
       "    </tr>\n",
       "    <tr>\n",
       "      <th>time</th>\n",
       "      <th></th>\n",
       "      <th></th>\n",
       "      <th></th>\n",
       "      <th></th>\n",
       "      <th></th>\n",
       "      <th></th>\n",
       "      <th></th>\n",
       "      <th></th>\n",
       "      <th></th>\n",
       "      <th></th>\n",
       "      <th></th>\n",
       "      <th></th>\n",
       "      <th></th>\n",
       "      <th></th>\n",
       "      <th></th>\n",
       "      <th></th>\n",
       "      <th></th>\n",
       "      <th></th>\n",
       "      <th></th>\n",
       "      <th></th>\n",
       "      <th></th>\n",
       "    </tr>\n",
       "  </thead>\n",
       "  <tbody>\n",
       "    <tr>\n",
       "      <td>2019-10-02 11:27:33+00:00</td>\n",
       "      <td>3632.0</td>\n",
       "      <td>6643.0</td>\n",
       "      <td>4685.0</td>\n",
       "      <td>1283.491128</td>\n",
       "      <td>6400.0</td>\n",
       "      <td>13121.0</td>\n",
       "      <td>8035.0</td>\n",
       "      <td>2571.444517</td>\n",
       "      <td>-1976.0</td>\n",
       "      <td>124.0</td>\n",
       "      <td>...</td>\n",
       "      <td>2976.416046</td>\n",
       "      <td>15666.0</td>\n",
       "      <td>22000.0</td>\n",
       "      <td>20000.0</td>\n",
       "      <td>1915.086322</td>\n",
       "      <td>sitting</td>\n",
       "      <td>Enes</td>\n",
       "      <td>3350.0</td>\n",
       "      <td>1528.0</td>\n",
       "      <td>7260.0</td>\n",
       "    </tr>\n",
       "    <tr>\n",
       "      <td>2019-10-02 11:27:34+00:00</td>\n",
       "      <td>-5608.0</td>\n",
       "      <td>2909.0</td>\n",
       "      <td>-1406.0</td>\n",
       "      <td>2209.106239</td>\n",
       "      <td>3650.0</td>\n",
       "      <td>10604.0</td>\n",
       "      <td>7315.0</td>\n",
       "      <td>1903.687849</td>\n",
       "      <td>-7044.0</td>\n",
       "      <td>4782.0</td>\n",
       "      <td>...</td>\n",
       "      <td>2333.917672</td>\n",
       "      <td>0.0</td>\n",
       "      <td>22000.0</td>\n",
       "      <td>13000.0</td>\n",
       "      <td>8669.028018</td>\n",
       "      <td>sitting</td>\n",
       "      <td>Enes</td>\n",
       "      <td>8721.0</td>\n",
       "      <td>2637.0</td>\n",
       "      <td>2047.0</td>\n",
       "    </tr>\n",
       "    <tr>\n",
       "      <td>2019-10-02 11:27:35+00:00</td>\n",
       "      <td>-5616.0</td>\n",
       "      <td>-433.0</td>\n",
       "      <td>-3931.5</td>\n",
       "      <td>1670.491396</td>\n",
       "      <td>2209.0</td>\n",
       "      <td>3739.0</td>\n",
       "      <td>3195.5</td>\n",
       "      <td>385.667241</td>\n",
       "      <td>-203.0</td>\n",
       "      <td>4128.0</td>\n",
       "      <td>...</td>\n",
       "      <td>177.769395</td>\n",
       "      <td>0.0</td>\n",
       "      <td>0.0</td>\n",
       "      <td>0.0</td>\n",
       "      <td>0.000000</td>\n",
       "      <td>sitting</td>\n",
       "      <td>Enes</td>\n",
       "      <td>7127.0</td>\n",
       "      <td>4312.0</td>\n",
       "      <td>4229.0</td>\n",
       "    </tr>\n",
       "    <tr>\n",
       "      <td>2019-10-02 11:27:36+00:00</td>\n",
       "      <td>-999.0</td>\n",
       "      <td>672.0</td>\n",
       "      <td>119.5</td>\n",
       "      <td>392.131221</td>\n",
       "      <td>2203.0</td>\n",
       "      <td>3901.0</td>\n",
       "      <td>3345.5</td>\n",
       "      <td>451.056246</td>\n",
       "      <td>-1244.0</td>\n",
       "      <td>410.0</td>\n",
       "      <td>...</td>\n",
       "      <td>281.100675</td>\n",
       "      <td>0.0</td>\n",
       "      <td>0.0</td>\n",
       "      <td>0.0</td>\n",
       "      <td>0.000000</td>\n",
       "      <td>sitting</td>\n",
       "      <td>Enes</td>\n",
       "      <td>3226.0</td>\n",
       "      <td>2769.5</td>\n",
       "      <td>8800.0</td>\n",
       "    </tr>\n",
       "    <tr>\n",
       "      <td>2019-10-02 11:27:37+00:00</td>\n",
       "      <td>-319.0</td>\n",
       "      <td>494.0</td>\n",
       "      <td>32.0</td>\n",
       "      <td>187.219151</td>\n",
       "      <td>2467.0</td>\n",
       "      <td>3420.0</td>\n",
       "      <td>3008.0</td>\n",
       "      <td>233.135713</td>\n",
       "      <td>-601.0</td>\n",
       "      <td>604.0</td>\n",
       "      <td>...</td>\n",
       "      <td>375.651210</td>\n",
       "      <td>0.0</td>\n",
       "      <td>0.0</td>\n",
       "      <td>0.0</td>\n",
       "      <td>0.000000</td>\n",
       "      <td>sitting</td>\n",
       "      <td>Enes</td>\n",
       "      <td>2976.0</td>\n",
       "      <td>1604.5</td>\n",
       "      <td>9204.0</td>\n",
       "    </tr>\n",
       "  </tbody>\n",
       "</table>\n",
       "<p>5 rows × 37 columns</p>\n",
       "</div>"
      ],
      "text/plain": [
       "                           alpha_min  alpha_max  alpha_median    alpha_std  \\\n",
       "time                                                                         \n",
       "2019-10-02 11:27:33+00:00     3632.0     6643.0        4685.0  1283.491128   \n",
       "2019-10-02 11:27:34+00:00    -5608.0     2909.0       -1406.0  2209.106239   \n",
       "2019-10-02 11:27:35+00:00    -5616.0     -433.0       -3931.5  1670.491396   \n",
       "2019-10-02 11:27:36+00:00     -999.0      672.0         119.5   392.131221   \n",
       "2019-10-02 11:27:37+00:00     -319.0      494.0          32.0   187.219151   \n",
       "\n",
       "                           alphaG_min  alphaG_max  alphaG_median   alphaG_std  \\\n",
       "time                                                                            \n",
       "2019-10-02 11:27:33+00:00      6400.0     13121.0         8035.0  2571.444517   \n",
       "2019-10-02 11:27:34+00:00      3650.0     10604.0         7315.0  1903.687849   \n",
       "2019-10-02 11:27:35+00:00      2209.0      3739.0         3195.5   385.667241   \n",
       "2019-10-02 11:27:36+00:00      2203.0      3901.0         3345.5   451.056246   \n",
       "2019-10-02 11:27:37+00:00      2467.0      3420.0         3008.0   233.135713   \n",
       "\n",
       "                           beta_min  beta_max  ...   gammaG_std  lux_min  \\\n",
       "time                                           ...                         \n",
       "2019-10-02 11:27:33+00:00   -1976.0     124.0  ...  2976.416046  15666.0   \n",
       "2019-10-02 11:27:34+00:00   -7044.0    4782.0  ...  2333.917672      0.0   \n",
       "2019-10-02 11:27:35+00:00    -203.0    4128.0  ...   177.769395      0.0   \n",
       "2019-10-02 11:27:36+00:00   -1244.0     410.0  ...   281.100675      0.0   \n",
       "2019-10-02 11:27:37+00:00    -601.0     604.0  ...   375.651210      0.0   \n",
       "\n",
       "                           lux_max  lux_median      lux_std    label  subject  \\\n",
       "time                                                                            \n",
       "2019-10-02 11:27:33+00:00  22000.0     20000.0  1915.086322  sitting     Enes   \n",
       "2019-10-02 11:27:34+00:00  22000.0     13000.0  8669.028018  sitting     Enes   \n",
       "2019-10-02 11:27:35+00:00      0.0         0.0     0.000000  sitting     Enes   \n",
       "2019-10-02 11:27:36+00:00      0.0         0.0     0.000000  sitting     Enes   \n",
       "2019-10-02 11:27:37+00:00      0.0         0.0     0.000000  sitting     Enes   \n",
       "\n",
       "                           g_alpha_median  g_beta_median  g_gamma_median  \n",
       "time                                                                      \n",
       "2019-10-02 11:27:33+00:00          3350.0         1528.0          7260.0  \n",
       "2019-10-02 11:27:34+00:00          8721.0         2637.0          2047.0  \n",
       "2019-10-02 11:27:35+00:00          7127.0         4312.0          4229.0  \n",
       "2019-10-02 11:27:36+00:00          3226.0         2769.5          8800.0  \n",
       "2019-10-02 11:27:37+00:00          2976.0         1604.5          9204.0  \n",
       "\n",
       "[5 rows x 37 columns]"
      ]
     },
     "execution_count": 10,
     "metadata": {},
     "output_type": "execute_result"
    }
   ],
   "source": [
    "windowFrame['g_alpha_median'] = abs(windowFrame['alphaG_median'] - windowFrame['alpha_median'])\n",
    "windowFrame['g_beta_median'] = abs(windowFrame['betaG_median'] - windowFrame['beta_median'])\n",
    "windowFrame['g_gamma_median'] = abs(windowFrame['gammaG_median'] - windowFrame['gamma_median'])\n",
    "windowFrame.head()"
   ]
  },
  {
   "cell_type": "code",
   "execution_count": 11,
   "metadata": {},
   "outputs": [
    {
     "data": {
      "text/html": [
       "<div>\n",
       "<style scoped>\n",
       "    .dataframe tbody tr th:only-of-type {\n",
       "        vertical-align: middle;\n",
       "    }\n",
       "\n",
       "    .dataframe tbody tr th {\n",
       "        vertical-align: top;\n",
       "    }\n",
       "\n",
       "    .dataframe thead th {\n",
       "        text-align: right;\n",
       "    }\n",
       "</style>\n",
       "<table border=\"1\" class=\"dataframe\">\n",
       "  <thead>\n",
       "    <tr style=\"text-align: right;\">\n",
       "      <th></th>\n",
       "      <th>alpha_min</th>\n",
       "      <th>alpha_max</th>\n",
       "      <th>alpha_median</th>\n",
       "      <th>alpha_std</th>\n",
       "      <th>alphaG_min</th>\n",
       "      <th>alphaG_max</th>\n",
       "      <th>alphaG_median</th>\n",
       "      <th>alphaG_std</th>\n",
       "      <th>beta_min</th>\n",
       "      <th>beta_max</th>\n",
       "      <th>...</th>\n",
       "      <th>lux_min</th>\n",
       "      <th>lux_max</th>\n",
       "      <th>lux_median</th>\n",
       "      <th>lux_std</th>\n",
       "      <th>label</th>\n",
       "      <th>subject</th>\n",
       "      <th>g_alpha_median</th>\n",
       "      <th>g_beta_median</th>\n",
       "      <th>g_gamma_median</th>\n",
       "      <th>orientation</th>\n",
       "    </tr>\n",
       "    <tr>\n",
       "      <th>time</th>\n",
       "      <th></th>\n",
       "      <th></th>\n",
       "      <th></th>\n",
       "      <th></th>\n",
       "      <th></th>\n",
       "      <th></th>\n",
       "      <th></th>\n",
       "      <th></th>\n",
       "      <th></th>\n",
       "      <th></th>\n",
       "      <th></th>\n",
       "      <th></th>\n",
       "      <th></th>\n",
       "      <th></th>\n",
       "      <th></th>\n",
       "      <th></th>\n",
       "      <th></th>\n",
       "      <th></th>\n",
       "      <th></th>\n",
       "      <th></th>\n",
       "      <th></th>\n",
       "    </tr>\n",
       "  </thead>\n",
       "  <tbody>\n",
       "    <tr>\n",
       "      <td>2019-10-02 11:27:33+00:00</td>\n",
       "      <td>3632.0</td>\n",
       "      <td>6643.0</td>\n",
       "      <td>4685.0</td>\n",
       "      <td>1283.491128</td>\n",
       "      <td>6400.0</td>\n",
       "      <td>13121.0</td>\n",
       "      <td>8035.0</td>\n",
       "      <td>2571.444517</td>\n",
       "      <td>-1976.0</td>\n",
       "      <td>124.0</td>\n",
       "      <td>...</td>\n",
       "      <td>15666.0</td>\n",
       "      <td>22000.0</td>\n",
       "      <td>20000.0</td>\n",
       "      <td>1915.086322</td>\n",
       "      <td>sitting</td>\n",
       "      <td>Enes</td>\n",
       "      <td>3350.0</td>\n",
       "      <td>1528.0</td>\n",
       "      <td>7260.0</td>\n",
       "      <td>2</td>\n",
       "    </tr>\n",
       "    <tr>\n",
       "      <td>2019-10-02 11:27:34+00:00</td>\n",
       "      <td>-5608.0</td>\n",
       "      <td>2909.0</td>\n",
       "      <td>-1406.0</td>\n",
       "      <td>2209.106239</td>\n",
       "      <td>3650.0</td>\n",
       "      <td>10604.0</td>\n",
       "      <td>7315.0</td>\n",
       "      <td>1903.687849</td>\n",
       "      <td>-7044.0</td>\n",
       "      <td>4782.0</td>\n",
       "      <td>...</td>\n",
       "      <td>0.0</td>\n",
       "      <td>22000.0</td>\n",
       "      <td>13000.0</td>\n",
       "      <td>8669.028018</td>\n",
       "      <td>sitting</td>\n",
       "      <td>Enes</td>\n",
       "      <td>8721.0</td>\n",
       "      <td>2637.0</td>\n",
       "      <td>2047.0</td>\n",
       "      <td>0</td>\n",
       "    </tr>\n",
       "    <tr>\n",
       "      <td>2019-10-02 11:27:35+00:00</td>\n",
       "      <td>-5616.0</td>\n",
       "      <td>-433.0</td>\n",
       "      <td>-3931.5</td>\n",
       "      <td>1670.491396</td>\n",
       "      <td>2209.0</td>\n",
       "      <td>3739.0</td>\n",
       "      <td>3195.5</td>\n",
       "      <td>385.667241</td>\n",
       "      <td>-203.0</td>\n",
       "      <td>4128.0</td>\n",
       "      <td>...</td>\n",
       "      <td>0.0</td>\n",
       "      <td>0.0</td>\n",
       "      <td>0.0</td>\n",
       "      <td>0.000000</td>\n",
       "      <td>sitting</td>\n",
       "      <td>Enes</td>\n",
       "      <td>7127.0</td>\n",
       "      <td>4312.0</td>\n",
       "      <td>4229.0</td>\n",
       "      <td>0</td>\n",
       "    </tr>\n",
       "    <tr>\n",
       "      <td>2019-10-02 11:27:36+00:00</td>\n",
       "      <td>-999.0</td>\n",
       "      <td>672.0</td>\n",
       "      <td>119.5</td>\n",
       "      <td>392.131221</td>\n",
       "      <td>2203.0</td>\n",
       "      <td>3901.0</td>\n",
       "      <td>3345.5</td>\n",
       "      <td>451.056246</td>\n",
       "      <td>-1244.0</td>\n",
       "      <td>410.0</td>\n",
       "      <td>...</td>\n",
       "      <td>0.0</td>\n",
       "      <td>0.0</td>\n",
       "      <td>0.0</td>\n",
       "      <td>0.000000</td>\n",
       "      <td>sitting</td>\n",
       "      <td>Enes</td>\n",
       "      <td>3226.0</td>\n",
       "      <td>2769.5</td>\n",
       "      <td>8800.0</td>\n",
       "      <td>2</td>\n",
       "    </tr>\n",
       "    <tr>\n",
       "      <td>2019-10-02 11:27:37+00:00</td>\n",
       "      <td>-319.0</td>\n",
       "      <td>494.0</td>\n",
       "      <td>32.0</td>\n",
       "      <td>187.219151</td>\n",
       "      <td>2467.0</td>\n",
       "      <td>3420.0</td>\n",
       "      <td>3008.0</td>\n",
       "      <td>233.135713</td>\n",
       "      <td>-601.0</td>\n",
       "      <td>604.0</td>\n",
       "      <td>...</td>\n",
       "      <td>0.0</td>\n",
       "      <td>0.0</td>\n",
       "      <td>0.0</td>\n",
       "      <td>0.000000</td>\n",
       "      <td>sitting</td>\n",
       "      <td>Enes</td>\n",
       "      <td>2976.0</td>\n",
       "      <td>1604.5</td>\n",
       "      <td>9204.0</td>\n",
       "      <td>2</td>\n",
       "    </tr>\n",
       "  </tbody>\n",
       "</table>\n",
       "<p>5 rows × 38 columns</p>\n",
       "</div>"
      ],
      "text/plain": [
       "                           alpha_min  alpha_max  alpha_median    alpha_std  \\\n",
       "time                                                                         \n",
       "2019-10-02 11:27:33+00:00     3632.0     6643.0        4685.0  1283.491128   \n",
       "2019-10-02 11:27:34+00:00    -5608.0     2909.0       -1406.0  2209.106239   \n",
       "2019-10-02 11:27:35+00:00    -5616.0     -433.0       -3931.5  1670.491396   \n",
       "2019-10-02 11:27:36+00:00     -999.0      672.0         119.5   392.131221   \n",
       "2019-10-02 11:27:37+00:00     -319.0      494.0          32.0   187.219151   \n",
       "\n",
       "                           alphaG_min  alphaG_max  alphaG_median   alphaG_std  \\\n",
       "time                                                                            \n",
       "2019-10-02 11:27:33+00:00      6400.0     13121.0         8035.0  2571.444517   \n",
       "2019-10-02 11:27:34+00:00      3650.0     10604.0         7315.0  1903.687849   \n",
       "2019-10-02 11:27:35+00:00      2209.0      3739.0         3195.5   385.667241   \n",
       "2019-10-02 11:27:36+00:00      2203.0      3901.0         3345.5   451.056246   \n",
       "2019-10-02 11:27:37+00:00      2467.0      3420.0         3008.0   233.135713   \n",
       "\n",
       "                           beta_min  beta_max  ...  lux_min  lux_max  \\\n",
       "time                                           ...                     \n",
       "2019-10-02 11:27:33+00:00   -1976.0     124.0  ...  15666.0  22000.0   \n",
       "2019-10-02 11:27:34+00:00   -7044.0    4782.0  ...      0.0  22000.0   \n",
       "2019-10-02 11:27:35+00:00    -203.0    4128.0  ...      0.0      0.0   \n",
       "2019-10-02 11:27:36+00:00   -1244.0     410.0  ...      0.0      0.0   \n",
       "2019-10-02 11:27:37+00:00    -601.0     604.0  ...      0.0      0.0   \n",
       "\n",
       "                           lux_median      lux_std    label  subject  \\\n",
       "time                                                                   \n",
       "2019-10-02 11:27:33+00:00     20000.0  1915.086322  sitting     Enes   \n",
       "2019-10-02 11:27:34+00:00     13000.0  8669.028018  sitting     Enes   \n",
       "2019-10-02 11:27:35+00:00         0.0     0.000000  sitting     Enes   \n",
       "2019-10-02 11:27:36+00:00         0.0     0.000000  sitting     Enes   \n",
       "2019-10-02 11:27:37+00:00         0.0     0.000000  sitting     Enes   \n",
       "\n",
       "                           g_alpha_median  g_beta_median  g_gamma_median  \\\n",
       "time                                                                       \n",
       "2019-10-02 11:27:33+00:00          3350.0         1528.0          7260.0   \n",
       "2019-10-02 11:27:34+00:00          8721.0         2637.0          2047.0   \n",
       "2019-10-02 11:27:35+00:00          7127.0         4312.0          4229.0   \n",
       "2019-10-02 11:27:36+00:00          3226.0         2769.5          8800.0   \n",
       "2019-10-02 11:27:37+00:00          2976.0         1604.5          9204.0   \n",
       "\n",
       "                           orientation  \n",
       "time                                    \n",
       "2019-10-02 11:27:33+00:00            2  \n",
       "2019-10-02 11:27:34+00:00            0  \n",
       "2019-10-02 11:27:35+00:00            0  \n",
       "2019-10-02 11:27:36+00:00            2  \n",
       "2019-10-02 11:27:37+00:00            2  \n",
       "\n",
       "[5 rows x 38 columns]"
      ]
     },
     "execution_count": 11,
     "metadata": {},
     "output_type": "execute_result"
    }
   ],
   "source": [
    "conditions = [\n",
    "    (windowFrame['g_alpha_median'] >= windowFrame['g_beta_median']) & (windowFrame['g_alpha_median'] >= windowFrame['g_gamma_median']),\n",
    "    (windowFrame['g_beta_median'] >= windowFrame['g_alpha_median']) & (windowFrame['g_beta_median'] >= windowFrame['g_gamma_median']),\n",
    "    (windowFrame['g_gamma_median'] >= windowFrame['g_alpha_median']) & (windowFrame['g_gamma_median'] >= windowFrame['g_beta_median']),\n",
    "]\n",
    "choices = [0, 1, 2] # 0 = device side-ways, 1 = device uppwards, 2 = device laying\n",
    "windowFrame['orientation'] = np.select(conditions, choices, default=1)\n",
    "windowFrame.head()"
   ]
  },
  {
   "cell_type": "code",
   "execution_count": 12,
   "metadata": {},
   "outputs": [],
   "source": [
    "data_new = windowFrame.drop(['label', 'subject'], axis=1).to_numpy() # all data without label and subject columns\n",
    "label_new = windowFrame['label'].to_numpy() # just the column label with the labels"
   ]
  },
  {
   "cell_type": "markdown",
   "metadata": {},
   "source": [
    "### Compare to previous exercise"
   ]
  },
  {
   "cell_type": "markdown",
   "metadata": {},
   "source": [
    "- Leave One Out with new feature orientation"
   ]
  },
  {
   "cell_type": "code",
   "execution_count": 13,
   "metadata": {},
   "outputs": [
    {
     "name": "stderr",
     "output_type": "stream",
     "text": [
      "100%|██████████| 1126/1126 [00:45<00:00, 24.53it/s]"
     ]
    },
    {
     "name": "stdout",
     "output_type": "stream",
     "text": [
      "Gaussian Nayve Bayes\n",
      "Mean accuracy: 0.9369449378330373\n",
      "Confusion Matrix\n",
      " [Sitting, Standing, Walking]\n",
      "  [[368   5  39]\n",
      " [  6 340   0]\n",
      " [ 21   0 347]] \n",
      "\n",
      "Nearest Neighbors\n",
      "Mean accuracy: 0.9564831261101243\n",
      "Confusion Matrix\n",
      " [Sitting, Standing, Walking]\n",
      "  [[374  11  27]\n",
      " [  0 346   0]\n",
      " [  3   8 357]] \n",
      "\n",
      "Decision Tree\n",
      "Mean accuracy: 0.9609236234458259\n",
      "Confusion Matrix\n",
      " [Sitting, Standing, Walking]\n",
      "  [[388   2  22]\n",
      " [  3 343   0]\n",
      " [ 17   0 351]] \n",
      "\n",
      "Random Forest\n",
      "Mean accuracy: 0.9582593250444049\n",
      "Confusion Matrix\n",
      " [Sitting, Standing, Walking]\n",
      "  [[377   5  30]\n",
      " [  0 346   0]\n",
      " [ 11   1 356]] \n",
      "\n"
     ]
    },
    {
     "name": "stderr",
     "output_type": "stream",
     "text": [
      "\n"
     ]
    }
   ],
   "source": [
    "split_clf(LeaveOneOut(), len(label), data_new, label_new)"
   ]
  },
  {
   "cell_type": "markdown",
   "metadata": {},
   "source": [
    "- K-Fold with new feature orientation"
   ]
  },
  {
   "cell_type": "code",
   "execution_count": 14,
   "metadata": {},
   "outputs": [
    {
     "name": "stderr",
     "output_type": "stream",
     "text": [
      "100%|██████████| 10/10 [00:00<00:00, 20.05it/s]"
     ]
    },
    {
     "name": "stdout",
     "output_type": "stream",
     "text": [
      "Gaussian Nayve Bayes\n",
      "Mean accuracy: 0.917501580278129\n",
      "Confusion Matrix\n",
      " [Sitting, Standing, Walking]\n",
      "  [[358   5  49]\n",
      " [ 14 332   0]\n",
      " [ 25   0 343]] \n",
      "\n",
      "Nearest Neighbors\n",
      "Mean accuracy: 0.9228271175726928\n",
      "Confusion Matrix\n",
      " [Sitting, Standing, Walking]\n",
      "  [[349  26  37]\n",
      " [  1 345   0]\n",
      " [ 10  13 345]] \n",
      "\n",
      "Decision Tree\n",
      "Mean accuracy: 0.9333833754740833\n",
      "Confusion Matrix\n",
      " [Sitting, Standing, Walking]\n",
      "  [[376   2  34]\n",
      " [  8 338   0]\n",
      " [ 31   0 337]] \n",
      "\n",
      "Random Forest\n",
      "Mean accuracy: 0.9360856510745892\n",
      "Confusion Matrix\n",
      " [Sitting, Standing, Walking]\n",
      "  [[368   5  39]\n",
      " [  2 343   1]\n",
      " [ 23   2 343]] \n",
      "\n"
     ]
    },
    {
     "name": "stderr",
     "output_type": "stream",
     "text": [
      "\n"
     ]
    }
   ],
   "source": [
    "n_splits = 10\n",
    "split_clf(KFold(n_splits=n_splits), n_splits, data_new, label_new)"
   ]
  },
  {
   "cell_type": "markdown",
   "metadata": {},
   "source": [
    "- Time Series Split with new feature orientation"
   ]
  },
  {
   "cell_type": "code",
   "execution_count": 15,
   "metadata": {},
   "outputs": [
    {
     "name": "stderr",
     "output_type": "stream",
     "text": [
      "100%|██████████| 10/10 [00:00<00:00, 26.65it/s]"
     ]
    },
    {
     "name": "stdout",
     "output_type": "stream",
     "text": [
      "Gaussian Nayve Bayes\n",
      "Mean accuracy: 0.8343137254901961\n",
      "Confusion Matrix\n",
      " [Sitting, Standing, Walking]\n",
      "  [[301   5   0]\n",
      " [ 66 280   0]\n",
      " [ 98   0 270]] \n",
      "\n",
      "Nearest Neighbors\n",
      "Mean accuracy: 0.7176470588235293\n",
      "Confusion Matrix\n",
      " [Sitting, Standing, Walking]\n",
      "  [[286  20   0]\n",
      " [118 228   0]\n",
      " [131  19 218]] \n",
      "\n",
      "Decision Tree\n",
      "Mean accuracy: 0.7970588235294118\n",
      "Confusion Matrix\n",
      " [Sitting, Standing, Walking]\n",
      "  [[281  25   0]\n",
      " [ 53 293   0]\n",
      " [129   0 239]] \n",
      "\n",
      "Random Forest\n",
      "Mean accuracy: 0.7872549019607844\n",
      "Confusion Matrix\n",
      " [Sitting, Standing, Walking]\n",
      "  [[298   8   0]\n",
      " [ 75 271   0]\n",
      " [132   2 234]] \n",
      "\n"
     ]
    },
    {
     "name": "stderr",
     "output_type": "stream",
     "text": [
      "\n"
     ]
    }
   ],
   "source": [
    "n_splits = 10\n",
    "split_clf(TimeSeriesSplit(n_splits=n_splits), n_splits, data_new, label_new)"
   ]
  },
  {
   "cell_type": "markdown",
   "metadata": {},
   "source": [
    "## e. Recursive Feature Elimination"
   ]
  },
  {
   "cell_type": "code",
   "execution_count": 16,
   "metadata": {},
   "outputs": [
    {
     "data": {
      "text/plain": [
       "['alpha_std',\n",
       " 'alphaG_min',\n",
       " 'alphaG_std',\n",
       " 'count_max',\n",
       " 'gamma_std',\n",
       " 'gammaG_median',\n",
       " 'gammaG_std',\n",
       " 'lux_min',\n",
       " 'lux_max',\n",
       " 'lux_median']"
      ]
     },
     "execution_count": 16,
     "metadata": {},
     "output_type": "execute_result"
    }
   ],
   "source": [
    "column_names = windowFrame.drop(['label', 'subject'], axis=1).columns\n",
    "clf = DecisionTreeClassifier(max_depth=15)\n",
    "rfe = RFE(clf,10,step=1)\n",
    "rfe.fit(data_new, label_new)\n",
    "columns = [column_name for support, column_name in zip(rfe.support_,column_names) if support]\n",
    "columns"
   ]
  },
  {
   "cell_type": "markdown",
   "metadata": {},
   "source": [
    "# Exercise 5\n",
    "## a. Export Classifier"
   ]
  },
  {
   "cell_type": "code",
   "execution_count": 17,
   "metadata": {},
   "outputs": [],
   "source": [
    "from sklearn_porter import Porter"
   ]
  },
  {
   "cell_type": "code",
   "execution_count": 18,
   "metadata": {},
   "outputs": [],
   "source": [
    "clf = DecisionTreeClassifier(max_depth=15)\n",
    "clf.fit(data_new, label_new)\n",
    "porter = Porter(clf, language='js')\n",
    "export = porter.export(embed_data=True)\n",
    "f = open(\"U5-clf_js/decision_tree.js\", \"w\")\n",
    "f.write(export)\n",
    "f.close()"
   ]
  }
 ],
 "metadata": {
  "kernelspec": {
   "display_name": "Python 3",
   "language": "python",
   "name": "python3"
  },
  "language_info": {
   "codemirror_mode": {
    "name": "ipython",
    "version": 3
   },
   "file_extension": ".py",
   "mimetype": "text/x-python",
   "name": "python",
   "nbconvert_exporter": "python",
   "pygments_lexer": "ipython3",
   "version": "3.7.4"
  }
 },
 "nbformat": 4,
 "nbformat_minor": 2
}
